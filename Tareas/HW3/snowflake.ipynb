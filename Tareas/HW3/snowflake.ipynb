{
 "metadata": {
  "name": ""
 },
 "nbformat": 3,
 "nbformat_minor": 0,
 "worksheets": [
  {
   "cells": [
    {
     "cell_type": "code",
     "collapsed": false,
     "input": [
      "#Este notebook da respuesta al primer punto de la tarea 3.\n",
      "#Para comenzar se incluyen todos los paquetes usados durante este notebook\n",
      "%matplotlib inline\n",
      "import numpy as np\n",
      "import matplotlib.pyplot as plt\n",
      "import matplotlib.image as mpimg\n",
      "import matplotlib.animation as animation"
     ],
     "language": "python",
     "metadata": {},
     "outputs": [],
     "prompt_number": 1
    },
    {
     "cell_type": "code",
     "collapsed": false,
     "input": [
      "#Basado en el m\u00e9todo recursivo para graficar usando el paquete turtle de python que se logro entender de esta fuente: \n",
      "#http://www.linuxvoice.com/issues/002/02drawing.pdf se realiza la definici\u00f3n de dos funciones primordiales para graficar\n",
      "#el copo de Koch. En la primera funci\u00f3n, se inicia con la forma b\u00e1sica del copo que consiste en una linea cuyo primer y\n",
      "#tercer tercio son lineas horizontales y el segundo tercio corresponde a la base de un triangulo equilatero. La idea con\n",
      "#esta funci\u00f3n es repetir en cada linea esta forma b\u00e1sica. Para hacer esto y guardar las imagenes son necesarios los\n",
      "#paquetes turtle y Tkinter\n",
      "import turtle\n",
      "import Tkinter\n",
      "def draw_line(distance,step):\n",
      "    if step == 1:\n",
      "        line.forward(distance)\n",
      "    else:\n",
      "        draw_line(distance,step-1)    \n",
      "    line.right(60)\n",
      "    if step == 1:\n",
      "        line.forward(distance)\n",
      "    else:\n",
      "        draw_line(distance,step-1)\n",
      "    line.left(120)\n",
      "    if step == 1:\n",
      "        line.forward(distance)\n",
      "    else:\n",
      "        draw_line(distance,step-1)\n",
      "    line.right(60)\n",
      "    if step == 1:\n",
      "        line.forward(distance)\n",
      "    else:\n",
      "        draw_line(distance,step-1)\n",
      "#Una vez se ha definido un segmento del copo de Koch debemos completar su forma de triangulo equilatero, es por esto que\n",
      "#definimos una nueva funci\u00f3n que realice tres lineas con la forma b\u00e1sica que depende de la distancia y un paso o iteraci\u00f3n\n",
      "def draw_snow(distance,step):\n",
      "    draw_line(distance,step-1)\n",
      "    line.left(120)\n",
      "    draw_line(distance,step-1)\n",
      "    line.left(120)\n",
      "    draw_line(distance,step-1)\n",
      "#Con estas funciones definidas procedemos a realizar las 6 formas del snowflake iterando el paso de las funciones \n",
      "#previas. El paso inicial correponde a un triangulo equilatero, es por esto que debemos hacer uso de un condicional.\n",
      "#Para mantener la escala de la figura se crean un vector de distancias que por cada paso se reduce en un tercio.\n",
      "line = turtle.Turtle()\n",
      "line.screen.screensize(50,0)\n",
      "for i in range(6):\n",
      "    dist = 3**(5-i)\n",
      "    st = i+1\n",
      "    if st == 1:\n",
      "        line.pen(pencolor=\"blue\")\n",
      "        line.hideturtle()\n",
      "        line.speed(7)\n",
      "        line.forward(dist)\n",
      "        line.left(120)\n",
      "        line.forward(dist)\n",
      "        line.left(120)\n",
      "        line.forward(dist)\n",
      "        ts = line.getscreen()\n",
      "        ts.getcanvas().postscript(file=\"snow_\" + str(st) + \".pdf\")\n",
      "        line.reset()\n",
      "    else:\n",
      "        line.pen(pencolor=\"blue\")\n",
      "        line.hideturtle()\n",
      "        line.speed(0)\n",
      "        draw_snow(dist,st)\n",
      "        ts = line.getscreen()\n",
      "        ts.getcanvas().postscript(file=\"snow_\" + str(st) + \".pdf\")\n",
      "        line.reset()\n",
      "#Este paquete abre un visor llamado turtle python screen hasta que se ha realizado la imagen del snowflake correspondiente\n",
      "#a cada iteraci\u00f3n, esto toma un poco menos de un minuto. Al correr este paso, por favor esperar hasta que el anuncio\n",
      "#Kernel busy en la esquina superior derecha desaparezca. Cada una de las graficas las guarda en un archivo pdf con un\n",
      "#nombre secuencial y luego con la instruccion bye se cierra el visor. Es valido notar que estos archivos pdf son\n",
      "#necesarios para el siguiente paso de este notebook\n",
      "turtle.bye()       "
     ],
     "language": "python",
     "metadata": {},
     "outputs": [],
     "prompt_number": 2
    },
    {
     "cell_type": "code",
     "collapsed": false,
     "input": [
      "#En este paso se grafica con el formato xkcd las 6 figuras de los copos de Koch en una grilla de 2x3, haciendo uso\n",
      "#de los archivos pdf generados en el paso anterior \n",
      "fig=plt.figure(figsize=(10,6))\n",
      "c = 1\n",
      "with plt.xkcd():\n",
      "    for b in range(6):\n",
      "        plt.subplot(2,3,c)\n",
      "        img = mpimg.imread( \"snow_\" + str(c) + \".pdf\" )\n",
      "        plt.imshow( img )\n",
      "        plt.axis(\"off\")\n",
      "        plt.axis(\"equal\")\n",
      "        c = c+1"
     ],
     "language": "python",
     "metadata": {},
     "outputs": [
      {
       "output_type": "stream",
       "stream": "stderr",
       "text": [
        "/usr/lib/pymodules/python2.7/matplotlib/font_manager.py:1236: UserWarning: findfont: Font family ['Humor Sans', 'Comic Sans MS', 'StayPuft'] not found. Falling back to Bitstream Vera Sans\n",
        "  (prop.get_family(), self.defaultFamily[fontext]))\n",
        "/usr/lib/pymodules/python2.7/matplotlib/font_manager.py:1246: UserWarning: findfont: Could not match :family=Bitstream Vera Sans:style=normal:variant=normal:weight=normal:stretch=normal:size=medium. Returning /usr/share/matplotlib/mpl-data/fonts/ttf/cmb10.ttf\n",
        "  UserWarning)\n"
       ]
      },
      {
       "metadata": {},
       "output_type": "display_data",
       "png": "[encoded data removed]",
       "text": [
        "<matplotlib.figure.Figure at 0x7f8cfd848290>"
       ]
      }
     ],
     "prompt_number": 3
    },
    {
     "cell_type": "code",
     "collapsed": false,
     "input": [
      "#Por \u00faltimo haciendo uso de comandos bash se realiza la animaci\u00f3n gif, como se observa en el siguiente link: \n",
      "#https://scottlinux.com/2011/07/31/create-animated-gif-in-linux-from-command-line/ .Por \u00faltimo se borran los\n",
      "#archivos auxiliares .pdf. En este paso y en el anterior son requeridos estos archivos, por lo cual se recomienda\n",
      "#hacer el segundo paso de este notebook para crear los archivos pdf. Para correr comandos de bash en este notebook\n",
      "#debemos importar el paquete os. Se hace uso del programa Imagemagick, por lo cual se recomiendo correr este \n",
      "#cuaderno en un computador que lo tengo, o instalarlo usando sudo apt-get install Imagemagick.\n",
      "import os\n",
      "os.system(\"mogrify -resize 640x480 *.pdf\")\n",
      "os.system(\"convert -delay 20 -loop 0 *.pdf snowflake.gif\")\n",
      "os.system(\"rm *.pdf\")\n",
      "os.system(\"animate snowflake.gif\")"
     ],
     "language": "python",
     "metadata": {},
     "outputs": [
      {
       "metadata": {},
       "output_type": "pyout",
       "prompt_number": 4,
       "text": [
        "0"
       ]
      }
     ],
     "prompt_number": 4
    },
    {
     "cell_type": "code",
     "collapsed": false,
     "input": [],
     "language": "python",
     "metadata": {},
     "outputs": []
    }
   ],
   "metadata": {}
  }
 ]
}