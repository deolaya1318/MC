{
 "metadata": {
  "name": ""
 },
 "nbformat": 3,
 "nbformat_minor": 0,
 "worksheets": [
  {
   "cells": [
    {
     "cell_type": "code",
     "collapsed": false,
     "input": [
      "#Este notebook da respuesta al tercer punto de HW3\n",
      "#Para comenzar incluimos matplotlib y numpy en el espacio de ipython\n",
      "%pylab inline"
     ],
     "language": "python",
     "metadata": {},
     "outputs": [
      {
       "output_type": "stream",
       "stream": "stdout",
       "text": [
        "Populating the interactive namespace from numpy and matplotlib\n"
       ]
      }
     ],
     "prompt_number": 5
    },
    {
     "cell_type": "code",
     "collapsed": false,
     "input": [
      "#Primero se define una funci\u00f3n que recibe dos cantidades, el n\u00famero de t\u00e9rminos a sumar en la serie de McLaurin para\n",
      "#sin(x) y el valor de x, y regresa la suma resultante\n",
      "def numsin(n,x):\n",
      "    term = x*1.0\n",
      "    suma = term\n",
      "    for p in range(2,n+1):\n",
      "        term *= -x*x/(2*p-1)/(2*p-2)\n",
      "        suma = suma + term\n",
      "    return suma"
     ],
     "language": "python",
     "metadata": {},
     "outputs": [],
     "prompt_number": 6
    },
    {
     "cell_type": "code",
     "collapsed": false,
     "input": [
      "#Ahora se calcula el n\u00famero de t\u00e9rminos a usar en la suma de la serie de McLaurin para que la magnitud de la diferencia\n",
      "#entre el valor calculado con numsin y el valor calculado usando la funci\u00f3n seno de NumPy sea menor a 0.01\n",
      "limite = 0.01\n",
      "for x in linspace(0.,45,100):\n",
      "    n = 1\n",
      "    dif = abs(numsin(n,x)-sin(x))\n",
      "    while dif>limite:\n",
      "        n=n+1\n",
      "        dif = abs(numsin(n,x)-sin(x))\n",
      "    print \"Se requieren\",n,\"t\u00e9rminos de la suma de McLaurin para que la diferencia entre el valor de sin(\",round(x,2),\")y el valor que da la suma sea\",round(dif,3),\"menor a 0.01\""
     ],
     "language": "python",
     "metadata": {},
     "outputs": [
      {
       "output_type": "stream",
       "stream": "stdout",
       "text": [
        "Se requieren 1 t\u00e9rminos de la suma de McLaurin para que la diferencia entre el valor de sin( 0.0 )y el valor que da la suma sea 0.0 menor a 0.01\n",
        "Se requieren 2 t\u00e9rminos de la suma de McLaurin para que la diferencia entre el valor de sin( 0.45 )y el valor que da la suma sea 0.0 menor a 0.01\n",
        "Se requieren 2 t\u00e9rminos de la suma de McLaurin para que la diferencia entre el valor de sin( 0.91 )y el valor que da la suma sea 0.005 menor a 0.01\n",
        "Se requieren 3 t\u00e9rminos de la suma de McLaurin para que la diferencia entre el valor de sin( 1.36 )y el valor que da la suma sea 0.002 menor a 0.01\n",
        "Se requieren 4 t\u00e9rminos de la suma de McLaurin para que la diferencia entre el valor de sin( 1.82 )y el valor que da la suma sea 0.001 menor a 0.01\n",
        "Se requieren 4 t\u00e9rminos de la suma de McLaurin para que la diferencia entre el valor de sin( 2.27 )y el valor que da la suma sea 0.004 menor a 0.01\n",
        "Se requieren 5 t\u00e9rminos de la suma de McLaurin para que la diferencia entre el valor de sin( 2.73 )y el valor que da la suma sea 0.001 menor a 0.01\n",
        "Se requieren 5 t\u00e9rminos de la suma de McLaurin para que la diferencia entre el valor de sin( 3.18 )y el valor que da la suma sea 0.008 menor a 0.01\n",
        "Se requieren 6 t\u00e9rminos de la suma de McLaurin para que la diferencia entre el valor de sin( 3.64 )y el valor que da la suma sea 0.003 menor a 0.01\n",
        "Se requieren 7 t\u00e9rminos de la suma de McLaurin para que la diferencia entre el valor de sin( 4.09 )y el valor que da la suma sea 0.001 menor a 0.01\n",
        "Se requieren 7 t\u00e9rminos de la suma de McLaurin para que la diferencia entre el valor de sin( 4.55 )y el valor que da la suma sea 0.005 menor a 0.01\n",
        "Se requieren 8 t\u00e9rminos de la suma de McLaurin para que la diferencia entre el valor de sin( 5.0 )y el valor que da la suma sea 0.002 menor a 0.01\n",
        "Se requieren 8 t\u00e9rminos de la suma de McLaurin para que la diferencia entre el valor de sin( 5.45 )y el valor que da la suma sea 0.009 menor a 0.01\n",
        "Se requieren 9 t\u00e9rminos de la suma de McLaurin para que la diferencia entre el valor de sin( 5.91 )y el valor que da la suma sea 0.003 menor a 0.01\n",
        "Se requieren 10 t\u00e9rminos de la suma de McLaurin para que la diferencia entre el valor de sin( 6.36 )y el valor que da la suma sea 0.001 menor a 0.01\n",
        "Se requieren 10 t\u00e9rminos de la suma de McLaurin para que la diferencia entre el valor de sin( 6.82 )y el valor que da la suma sea 0.006 menor a 0.01\n",
        "Se requieren 11 t\u00e9rminos de la suma de McLaurin para que la diferencia entre el valor de sin( 7.27 )y el valor que da la suma sea 0.002 menor a 0.01\n",
        "Se requieren 11 t\u00e9rminos de la suma de McLaurin para que la diferencia entre el valor de sin( 7.73 )y el valor que da la suma sea 0.009 menor a 0.01\n",
        "Se requieren 12 t\u00e9rminos de la suma de McLaurin para que la diferencia entre el valor de sin( 8.18 )y el valor que da la suma sea 0.004 menor a 0.01\n",
        "Se requieren 13 t\u00e9rminos de la suma de McLaurin para que la diferencia entre el valor de sin( 8.64 )y el valor que da la suma sea 0.002 menor a 0.01\n",
        "Se requieren 13 t\u00e9rminos de la suma de McLaurin para que la diferencia entre el valor de sin( 9.09 )y el valor que da la suma sea 0.006 menor a 0.01\n",
        "Se requieren 14 t\u00e9rminos de la suma de McLaurin para que la diferencia entre el valor de sin( 9.55 )y el valor que da la suma sea 0.003 menor a 0.01\n",
        "Se requieren 15 t\u00e9rminos de la suma de McLaurin para que la diferencia entre el valor de sin( 10.0 )y el valor que da la suma sea 0.001 menor a 0.01\n",
        "Se requieren 15 t\u00e9rminos de la suma de McLaurin para que la diferencia entre el valor de sin( 10.45 )y el valor que da la suma sea 0.004 menor a 0.01\n",
        "Se requieren 16 t\u00e9rminos de la suma de McLaurin para que la diferencia entre el valor de sin( 10.91 )y el valor que da la suma sea 0.002 menor a 0.01\n",
        "Se requieren 16 t\u00e9rminos de la suma de McLaurin para que la diferencia entre el valor de sin( 11.36 )y el valor que da la suma sea 0.007 menor a 0.01\n",
        "Se requieren 17 t\u00e9rminos de la suma de McLaurin para que la diferencia entre el valor de sin( 11.82 )y el valor que da la suma sea 0.003 menor a 0.01\n",
        "Se requieren 18 t\u00e9rminos de la suma de McLaurin para que la diferencia entre el valor de sin( 12.27 )y el valor que da la suma sea 0.001 menor a 0.01\n",
        "Se requieren 18 t\u00e9rminos de la suma de McLaurin para que la diferencia entre el valor de sin( 12.73 )y el valor que da la suma sea 0.005 menor a 0.01\n",
        "Se requieren 19 t\u00e9rminos de la suma de McLaurin para que la diferencia entre el valor de sin( 13.18 )y el valor que da la suma sea 0.002 menor a 0.01\n",
        "Se requieren 19 t\u00e9rminos de la suma de McLaurin para que la diferencia entre el valor de sin( 13.64 )y el valor que da la suma sea 0.008 menor a 0.01\n",
        "Se requieren 20 t\u00e9rminos de la suma de McLaurin para que la diferencia entre el valor de sin( 14.09 )y el valor que da la suma sea 0.003 menor a 0.01\n",
        "Se requieren 21 t\u00e9rminos de la suma de McLaurin para que la diferencia entre el valor de sin( 14.55 )y el valor que da la suma sea 0.001 menor a 0.01\n",
        "Se requieren 21 t\u00e9rminos de la suma de McLaurin para que la diferencia entre el valor de sin( 15.0 )y el valor que da la suma sea 0.006 menor a 0.01\n",
        "Se requieren 22 t\u00e9rminos de la suma de McLaurin para que la diferencia entre el valor de sin( 15.45 )y el valor que da la suma sea 0.002 menor a 0.01\n",
        "Se requieren 22 t\u00e9rminos de la suma de McLaurin para que la diferencia entre el valor de sin( 15.91 )y el valor que da la suma sea 0.009 menor a 0.01\n",
        "Se requieren 23 t\u00e9rminos de la suma de McLaurin para que la diferencia entre el valor de sin( 16.36 )y el valor que da la suma sea 0.004 menor a 0.01\n",
        "Se requieren 24 t\u00e9rminos de la suma de McLaurin para que la diferencia entre el valor de sin( 16.82 )y el valor que da la suma sea 0.002 menor a 0.01\n",
        "Se requieren 24 t\u00e9rminos de la suma de McLaurin para que la diferencia entre el valor de sin( 17.27 )y el valor que da la suma sea 0.006 menor a 0.01\n",
        "Se requieren 25 t\u00e9rminos de la suma de McLaurin para que la diferencia entre el valor de sin( 17.73 )y el valor que da la suma sea 0.003 menor a 0.01\n",
        "Se requieren 26 t\u00e9rminos de la suma de McLaurin para que la diferencia entre el valor de sin( 18.18 )y el valor que da la suma sea 0.001 menor a 0.01\n",
        "Se requieren"
       ]
      },
      {
       "output_type": "stream",
       "stream": "stdout",
       "text": [
        " 26 t\u00e9rminos de la suma de McLaurin para que la diferencia entre el valor de sin( 18.64 )y el valor que da la suma sea 0.004 menor a 0.01\n",
        "Se requieren 27 t\u00e9rminos de la suma de McLaurin para que la diferencia entre el valor de sin( 19.09 )y el valor que da la suma sea 0.002 menor a 0.01\n",
        "Se requieren 27 t\u00e9rminos de la suma de McLaurin para que la diferencia entre el valor de sin( 19.55 )y el valor que da la suma sea 0.007 menor a 0.01\n",
        "Se requieren 28 t\u00e9rminos de la suma de McLaurin para que la diferencia entre el valor de sin( 20.0 )y el valor que da la suma sea 0.003 menor a 0.01\n",
        "Se requieren 29 t\u00e9rminos de la suma de McLaurin para que la diferencia entre el valor de sin( 20.45 )y el valor que da la suma sea 0.001 menor a 0.01\n",
        "Se requieren 29 t\u00e9rminos de la suma de McLaurin para que la diferencia entre el valor de sin( 20.91 )y el valor que da la suma sea 0.005 menor a 0.01\n",
        "Se requieren 30 t\u00e9rminos de la suma de McLaurin para que la diferencia entre el valor de sin( 21.36 )y el valor que da la suma sea 0.002 menor a 0.01\n",
        "Se requieren 30 t\u00e9rminos de la suma de McLaurin para que la diferencia entre el valor de sin( 21.82 )y el valor que da la suma sea 0.008 menor a 0.01\n",
        "Se requieren 31 t\u00e9rminos de la suma de McLaurin para que la diferencia entre el valor de sin( 22.27 )y el valor que da la suma sea 0.004 menor a 0.01\n",
        "Se requieren 32 t\u00e9rminos de la suma de McLaurin para que la diferencia entre el valor de sin( 22.73 )y el valor que da la suma sea 0.002 menor a 0.01\n",
        "Se requieren 32 t\u00e9rminos de la suma de McLaurin para que la diferencia entre el valor de sin( 23.18 )y el valor que da la suma sea 0.006 menor a 0.01\n",
        "Se requieren 33 t\u00e9rminos de la suma de McLaurin para que la diferencia entre el valor de sin( 23.64 )y el valor que da la suma sea 0.003 menor a 0.01\n",
        "Se requieren 33 t\u00e9rminos de la suma de McLaurin para que la diferencia entre el valor de sin( 24.09 )y el valor que da la suma sea 0.009 menor a 0.01\n",
        "Se requieren 34 t\u00e9rminos de la suma de McLaurin para que la diferencia entre el valor de sin( 24.55 )y el valor que da la suma sea 0.004 menor a 0.01\n",
        "Se requieren 35 t\u00e9rminos de la suma de McLaurin para que la diferencia entre el valor de sin( 25.0 )y el valor que da la suma sea 0.002 menor a 0.01\n",
        "Se requieren 35 t\u00e9rminos de la suma de McLaurin para que la diferencia entre el valor de sin( 25.45 )y el valor que da la suma sea 0.007 menor a 0.01\n",
        "Se requieren 36 t\u00e9rminos de la suma de McLaurin para que la diferencia entre el valor de sin( 25.91 )y el valor que da la suma sea 0.003 menor a 0.01\n",
        "Se requieren 37 t\u00e9rminos de la suma de McLaurin para que la diferencia entre el valor de sin( 26.36 )y el valor que da la suma sea 0.001 menor a 0.01\n",
        "Se requieren 37 t\u00e9rminos de la suma de McLaurin para que la diferencia entre el valor de sin( 26.82 )y el valor que da la suma sea 0.005 menor a 0.01\n",
        "Se requieren"
       ]
      },
      {
       "output_type": "stream",
       "stream": "stdout",
       "text": [
        " 38 t\u00e9rminos de la suma de McLaurin para que la diferencia entre el valor de sin( 27.27 )y el valor que da la suma sea 0.002 menor a 0.01\n",
        "Se requieren 38 t\u00e9rminos de la suma de McLaurin para que la diferencia entre el valor de sin( 27.73 )y el valor que da la suma sea 0.008 menor a 0.01\n",
        "Se requieren 39 t\u00e9rminos de la suma de McLaurin para que la diferencia entre el valor de sin( 28.18 )y el valor que da la suma sea 0.003 menor a 0.01\n",
        "Se requieren 40 t\u00e9rminos de la suma de McLaurin para que la diferencia entre el valor de sin( 28.64 )y el valor que da la suma sea 0.002 menor a 0.01\n",
        "Se requieren 40 t\u00e9rminos de la suma de McLaurin para que la diferencia entre el valor de sin( 29.09 )y el valor que da la suma sea 0.006 menor a 0.01\n",
        "Se requieren 41 t\u00e9rminos de la suma de McLaurin para que la diferencia entre el valor de sin( 29.55 )y el valor que da la suma sea 0.002 menor a 0.01\n",
        "Se requieren 41 t\u00e9rminos de la suma de McLaurin para que la diferencia entre el valor de sin( 30.0 )y el valor que da la suma sea 0.009 menor a 0.01\n",
        "Se requieren 42 t\u00e9rminos de la suma de McLaurin para que la diferencia entre el valor de sin( 30.45 )y el valor que da la suma sea 0.004 menor a 0.01\n",
        "Se requieren 43 t\u00e9rminos de la suma de McLaurin para que la diferencia entre el valor de sin( 30.91 )y el valor que da la suma sea 0.002 menor a 0.01\n",
        "Se requieren 43 t\u00e9rminos de la suma de McLaurin para que la diferencia entre el valor de sin( 31.36 )y el valor que da la suma sea 0.007 menor a 0.01\n",
        "Se requieren 44 t\u00e9rminos de la suma de McLaurin para que la diferencia entre el valor de sin( 31.82 )y el valor que da la suma sea 0.003 menor a 0.01\n",
        "Se requieren"
       ]
      },
      {
       "ename": "KeyboardInterrupt",
       "evalue": "",
       "output_type": "pyerr",
       "traceback": [
        "\u001b[0;31m---------------------------------------------------------------------------\u001b[0m\n\u001b[0;31mKeyboardInterrupt\u001b[0m                         Traceback (most recent call last)",
        "\u001b[0;32m<ipython-input-7-e3a8c897a151>\u001b[0m in \u001b[0;36m<module>\u001b[0;34m()\u001b[0m\n\u001b[1;32m      7\u001b[0m     \u001b[0;32mwhile\u001b[0m \u001b[0mdif\u001b[0m\u001b[0;34m>\u001b[0m\u001b[0mlimite\u001b[0m\u001b[0;34m:\u001b[0m\u001b[0;34m\u001b[0m\u001b[0m\n\u001b[1;32m      8\u001b[0m         \u001b[0mn\u001b[0m\u001b[0;34m=\u001b[0m\u001b[0mn\u001b[0m\u001b[0;34m+\u001b[0m\u001b[0;36m1\u001b[0m\u001b[0;34m\u001b[0m\u001b[0m\n\u001b[0;32m----> 9\u001b[0;31m         \u001b[0mdif\u001b[0m \u001b[0;34m=\u001b[0m \u001b[0mabs\u001b[0m\u001b[0;34m(\u001b[0m\u001b[0mnumsin\u001b[0m\u001b[0;34m(\u001b[0m\u001b[0mn\u001b[0m\u001b[0;34m,\u001b[0m\u001b[0mx\u001b[0m\u001b[0;34m)\u001b[0m\u001b[0;34m-\u001b[0m\u001b[0msin\u001b[0m\u001b[0;34m(\u001b[0m\u001b[0mx\u001b[0m\u001b[0;34m)\u001b[0m\u001b[0;34m)\u001b[0m\u001b[0;34m\u001b[0m\u001b[0m\n\u001b[0m\u001b[1;32m     10\u001b[0m     \u001b[0;32mprint\u001b[0m \u001b[0;34m\"Se requieren\"\u001b[0m\u001b[0;34m,\u001b[0m\u001b[0mn\u001b[0m\u001b[0;34m,\u001b[0m\u001b[0;34m\"t\u00e9rminos de la suma de McLaurin para que la diferencia entre el valor de sin(\"\u001b[0m\u001b[0;34m,\u001b[0m\u001b[0mround\u001b[0m\u001b[0;34m(\u001b[0m\u001b[0mx\u001b[0m\u001b[0;34m,\u001b[0m\u001b[0;36m2\u001b[0m\u001b[0;34m)\u001b[0m\u001b[0;34m,\u001b[0m\u001b[0;34m\")y el valor que da la suma sea\"\u001b[0m\u001b[0;34m,\u001b[0m\u001b[0mround\u001b[0m\u001b[0;34m(\u001b[0m\u001b[0mdif\u001b[0m\u001b[0;34m,\u001b[0m\u001b[0;36m3\u001b[0m\u001b[0;34m)\u001b[0m\u001b[0;34m,\u001b[0m\u001b[0;34m\"menor a 0.01\"\u001b[0m\u001b[0;34m\u001b[0m\u001b[0m\n",
        "\u001b[0;32m<ipython-input-6-76651d97b041>\u001b[0m in \u001b[0;36mnumsin\u001b[0;34m(n, x)\u001b[0m\n\u001b[1;32m      5\u001b[0m     \u001b[0msuma\u001b[0m \u001b[0;34m=\u001b[0m \u001b[0mterm\u001b[0m\u001b[0;34m\u001b[0m\u001b[0m\n\u001b[1;32m      6\u001b[0m     \u001b[0;32mfor\u001b[0m \u001b[0mp\u001b[0m \u001b[0;32min\u001b[0m \u001b[0mrange\u001b[0m\u001b[0;34m(\u001b[0m\u001b[0;36m2\u001b[0m\u001b[0;34m,\u001b[0m\u001b[0mn\u001b[0m\u001b[0;34m+\u001b[0m\u001b[0;36m1\u001b[0m\u001b[0;34m)\u001b[0m\u001b[0;34m:\u001b[0m\u001b[0;34m\u001b[0m\u001b[0m\n\u001b[0;32m----> 7\u001b[0;31m         \u001b[0mterm\u001b[0m \u001b[0;34m*=\u001b[0m \u001b[0;34m-\u001b[0m\u001b[0mx\u001b[0m\u001b[0;34m*\u001b[0m\u001b[0mx\u001b[0m\u001b[0;34m/\u001b[0m\u001b[0;34m(\u001b[0m\u001b[0;36m2\u001b[0m\u001b[0;34m*\u001b[0m\u001b[0mp\u001b[0m\u001b[0;34m-\u001b[0m\u001b[0;36m1\u001b[0m\u001b[0;34m)\u001b[0m\u001b[0;34m/\u001b[0m\u001b[0;34m(\u001b[0m\u001b[0;36m2\u001b[0m\u001b[0;34m*\u001b[0m\u001b[0mp\u001b[0m\u001b[0;34m-\u001b[0m\u001b[0;36m2\u001b[0m\u001b[0;34m)\u001b[0m\u001b[0;34m\u001b[0m\u001b[0m\n\u001b[0m\u001b[1;32m      8\u001b[0m         \u001b[0msuma\u001b[0m \u001b[0;34m=\u001b[0m \u001b[0msuma\u001b[0m \u001b[0;34m+\u001b[0m \u001b[0mterm\u001b[0m\u001b[0;34m\u001b[0m\u001b[0m\n\u001b[1;32m      9\u001b[0m     \u001b[0;32mreturn\u001b[0m \u001b[0msuma\u001b[0m\u001b[0;34m\u001b[0m\u001b[0m\n",
        "\u001b[0;31mKeyboardInterrupt\u001b[0m: "
       ]
      },
      {
       "output_type": "stream",
       "stream": "stdout",
       "text": [
        " 44 t\u00e9rminos de la suma de McLaurin para que la diferencia entre el valor de sin( 32.27 )y el valor que da la suma sea 0.01 menor a 0.01\n",
        "Se requieren 45 t\u00e9rminos de la suma de McLaurin para que la diferencia entre el valor de sin( 32.73 )y el valor que da la suma sea 0.005 menor a 0.01\n",
        "Se requieren 46 t\u00e9rminos de la suma de McLaurin para que la diferencia entre el valor de sin( 33.18 )y el valor que da la suma sea 0.002 menor a 0.01\n",
        "Se requieren 47 t\u00e9rminos de la suma de McLaurin para que la diferencia entre el valor de sin( 33.64 )y el valor que da la suma sea 0.003 menor a 0.01\n",
        "Se requieren 47 t\u00e9rminos de la suma de McLaurin para que la diferencia entre el valor de sin( 34.09 )y el valor que da la suma sea 0.006 menor a 0.01\n",
        "Se requieren 48 t\u00e9rminos de la suma de McLaurin para que la diferencia entre el valor de sin( 34.55 )y el valor que da la suma sea 0.001 menor a 0.01\n",
        "Se requieren 48 t\u00e9rminos de la suma de McLaurin para que la diferencia entre el valor de sin( 35.0 )y el valor que da la suma sea 0.008 menor a 0.01\n",
        "Se requieren 49 t\u00e9rminos de la suma de McLaurin para que la diferencia entre el valor de sin( 35.45 )y el valor que da la suma sea 0.006 menor a 0.01\n",
        "Se requieren 49 t\u00e9rminos de la suma de McLaurin para que la diferencia entre el valor de sin( 35.91 )y el valor que da la suma sea 0.009 menor a 0.01\n"
       ]
      }
     ],
     "prompt_number": 7
    },
    {
     "cell_type": "code",
     "collapsed": false,
     "input": [
      "#Luego de repertir varias veces este algoritmo se puede notar que una vez se han llegado a los 49 t\u00e9rminos de la suma\n",
      "#de McLaurin, es decir para un valor de sin(35.91), el valor del error no se puede reducir m\u00e1s abajo del limite\n",
      "#usando la relaci\u00f3n de recurrencia descrita en el libro de Landau, es por esta raz\u00f3n que se interrumpe el kerne.\n",
      "#Para este caso el error es muy cercano al limite, sin embargo para unos pasos despues el error sera mayor a este limite"
     ],
     "language": "python",
     "metadata": {},
     "outputs": [],
     "prompt_number": 8
    },
    {
     "cell_type": "code",
     "collapsed": false,
     "input": [],
     "language": "python",
     "metadata": {},
     "outputs": []
    }
   ],
   "metadata": {}
  }
 ]
}