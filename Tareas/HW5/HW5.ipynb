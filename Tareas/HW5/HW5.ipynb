{
 "metadata": {
  "name": "",
  "signature": "sha256:d5b0951bcd24d944b465535f2310ca0fb4fbe65699efb69b117add18c8b04d55"
 },
 "nbformat": 3,
 "nbformat_minor": 0,
 "worksheets": [
  {
   "cells": [
    {
     "cell_type": "heading",
     "level": 1,
     "metadata": {},
     "source": [
      "HW5"
     ]
    },
    {
     "cell_type": "heading",
     "level": 2,
     "metadata": {},
     "source": [
      "3-Coreograf\u00eda"
     ]
    },
    {
     "cell_type": "heading",
     "level": 3,
     "metadata": {},
     "source": [
      "a) Encontrar trayectorias"
     ]
    },
    {
     "cell_type": "markdown",
     "metadata": {},
     "source": [
      "Usando el m\u00e9todo de Runge Kutta de cuarto orden se resuelve la ecuaci\u00f3n diferencial que describe el movimiento de tres cuerpos sujetos a su mutua atracci\u00f3n gravitacional:"
     ]
    },
    {
     "cell_type": "markdown",
     "metadata": {},
     "source": [
      "$m_i\\frac{d^2r}{dt^2}=- \\sum\\limits_{i\\neq j} \\frac{Gm_im_j(r_i-r_j)}{r_{ij}^3}$ para $i = 1,...,3$"
     ]
    },
    {
     "cell_type": "markdown",
     "metadata": {},
     "source": [
      "Esta es una ecuaci\u00f3n diferencial de segundo orden que describe el movimiento de cada masa $m_i$. Para usar el m\u00e9todo runge kutta es necesario describir el movimiento de la masa $m_i$ usando ecuaciones de primer orden. Se usa la definici\u00f3n de momento lineal y de ah\u00ed se halla una relaci\u00f3n entre la derivada del momento y la fuerza gravitacional entre los cuerpos. Se debe tener en cuenta que las masas en el problema son unitarias al igual que la constante de gravitaci\u00f3n universal G."
     ]
    },
    {
     "cell_type": "markdown",
     "metadata": {},
     "source": [
      "$r'=\\frac{dr}{dt}=\\frac{p}{m}=p$"
     ]
    },
    {
     "cell_type": "markdown",
     "metadata": {},
     "source": [
      "Entonces"
     ]
    },
    {
     "cell_type": "markdown",
     "metadata": {},
     "source": [
      "$p'=\\frac{dr'}{dt}= \\frac{d^2r}{dt^2}= \\sum\\limits_{i\\neq j} \\frac{Gm_j(r_i-r_j)}{r_{ij}^3}=\\sum\\limits_{i\\neq j}\\frac{(r_i-r_j)}{r_{ij}^3}$ para $i = 1,...,3$"
     ]
    },
    {
     "cell_type": "markdown",
     "metadata": {},
     "source": [
      "Ahora tenemos las dos ecuaciones diferenciales de primer orden que solucionaremos usando el m\u00e9todo de runge kutta implementado en: http://www.codeproject.com/Tips/792927/Fourth-Order-Runge-Kutta-Method-in-Python"
     ]
    },
    {
     "cell_type": "code",
     "collapsed": false,
     "input": [
      "#Primero se importa los paquetes requeridos para cada operaci\u00f3n desarrollada en este notebook\n",
      "import numpy as np\n",
      "import matplotlib as mpl\n",
      "import matplotlib.pyplot as plt\n",
      "import matplotlib.animation as animation\n",
      "%pylab inline"
     ],
     "language": "python",
     "metadata": {},
     "outputs": [
      {
       "output_type": "stream",
       "stream": "stdout",
       "text": [
        "Populating the interactive namespace from numpy and matplotlib\n"
       ]
      }
     ],
     "prompt_number": 1
    },
    {
     "cell_type": "code",
     "collapsed": false,
     "input": [
      "#El primer paso es modificar el m\u00e9todo runge kutta descrito en el link para resolver las dos ecuaciones\n",
      "#diferenciales acopladas descritas previamente. Las variables pk y rk de la funci\u00f3n rK4 son temporales\n",
      "def rK4(N, r, p, fr, fp, t, hs):\n",
      "    for i in range (1,N):\n",
      "        r1 = fr(r[i-1], p[i-1])*hs\n",
      "        p1 = fp(r[i-1], p[i-1])*hs\n",
      "        rk = r[i-1] + r1*0.5\n",
      "        pk = p[i-1] + p1*0.5\n",
      "        r2 = fr(rk, pk)*hs\n",
      "        p2 = fp(rk, pk)*hs\n",
      "        rk = r[i-1] + r2*0.5\n",
      "        pk = p[i-1] + p2*0.5\n",
      "        r3 = fr(rk, pk)*hs\n",
      "        p3 = fp(rk, pk)*hs\n",
      "        rk = r[i-1] + r3\n",
      "        pk = p[i-1] + p3\n",
      "        r4 = fr(rk, pk)*hs\n",
      "        p4 = fp(rk, pk)*hs\n",
      "        r[i] = r[i-1] + (r1 + 2*(r2 + r3) + r4)/6\n",
      "        p[i] = p[i-1] + (p1 + 2*(p2 + p3) + p4)/6\n",
      "        t[i] = t[i-1] + hs\n",
      "    return r, p, t\n",
      "\n",
      "#Ahora definimos las funciones fr y fp que son argumentos del m\u00e9todo de runge kutta implementado previamente.\n",
      "#La funci\u00f3n descrita en el breve marco te\u00f3rico llamada r' corresponde a fr, mientras que p' corresponde a fp.\n",
      "#En la funci\u00f3n fp usamos la funci\u00f3n roll de numpy para intercambiar las posiciones de las columnas del vector rk\n",
      "#que guarda la informaci\u00f3n de la posici\u00f3n en el plano complejo de las tres part\u00edculas.\n",
      "def fr(rk, pk):\n",
      "    return pk\n",
      "def fp(rk, pk):\n",
      "    rba = np.roll(rk,1)-rk\n",
      "    rca = np.roll(rk,2)-rk\n",
      "    return (rca/(np.abs(rca)**3)+rba/(np.abs(rba)**3))"
     ],
     "language": "python",
     "metadata": {},
     "outputs": [],
     "prompt_number": 16
    },
    {
     "cell_type": "code",
     "collapsed": false,
     "input": [
      "#Se inicia las listas que guardan informaci\u00f3n del tiempo, posici\u00f3n y momento de la part\u00edcula. La lista de\n",
      "#tiempo es unidimensional, mientras que las listas de posici\u00f3n y momento son tridimensionales, pues guardan esta\n",
      "#informaci\u00f3n de las tres part\u00edculas en su plano complejo. Adem\u00e1s se escoge un paso con cuatro cifras significativas\n",
      "#para lograr encontrar el periodo en el siguiente literal con tres cifras significativas. El paso escogido\n",
      "#determina el tama\u00f1o de las listas.\n",
      "hs = 0.0001\n",
      "tfin = 0.5\n",
      "N = int(tfin/hs)\n",
      "a =  0.24250109\n",
      "b = -0.0607718825\n",
      "c =  0.93240737\n",
      "d =  0.86473146\n",
      "t = np.zeros(N)    \n",
      "r = np.zeros((N,3),dtype=np.complex)\n",
      "p = np.zeros((N,3),dtype=np.complex)\n",
      "\n",
      "#Por \u00faltimo, se resolve las ecuaciones llamando a la funci\u00f3n runge kutta implementada previamente, teniendo en cuenta\n",
      "#las condiciones iniciales\n",
      "r[0] = np.array([a + b*1j, -a - b*1j, 0 + 0*1j]) \n",
      "p[0] = np.array([c + d*1j, c + d*1j, -2*c - 2*d*1j])\n",
      "r,p,t = rK4(N, r, p, fr, fp, t, hs)"
     ],
     "language": "python",
     "metadata": {},
     "outputs": [],
     "prompt_number": 17
    },
    {
     "cell_type": "code",
     "collapsed": false,
     "input": [
      "#Por \u00faltimo se usa matplotlib para graficar la trayectoria de las part\u00edculas en el plano complejo en el tiempo de 0.5.\n",
      "#El punto final de cada trayectoria se grafica de color azul y el punto inicial se grafica de color negro  \n",
      "fig,ax = plt.subplots(3,1,figsize=(10,15),sharex=True,sharey=True)\n",
      "for i in range(3):\n",
      "    ax[i].plot(np.real(r[:,i]),np.imag(r[:,i]),label=u'Part\u00edcula '+str(i+1))\n",
      "    ax[0].scatter(a,b, color = 'k')\n",
      "    ax[1].scatter(-a,-b, color = 'k')\n",
      "    ax[2].scatter(0,0, color = 'k')\n",
      "    ax[i].scatter(np.real(r[-1,i]),np.imag(r[-1,i]), color = 'b')\n",
      "    ax[i].legend()\n",
      "plt.show()"
     ],
     "language": "python",
     "metadata": {},
     "outputs": [
      {
       "metadata": {},
       "output_type": "display_data",
       "png": "[encoded data removed]",
       "text": [
        "<matplotlib.figure.Figure at 0x7fe164c0e710>"
       ]
      }
     ],
     "prompt_number": 18
    },
    {
     "cell_type": "heading",
     "level": 3,
     "metadata": {},
     "source": [
      "b) Hallar el periodo del movimiento"
     ]
    },
    {
     "cell_type": "markdown",
     "metadata": {},
     "source": [
      "De estas gr\u00e1ficas se nota que ninguna de las tres part\u00edculas ha completado un ciclo, as\u00ed que permite concluir que el ciclo tiene un periodo mayor a media unidad de tiempo. Adem\u00e1s se nota que existe simetr\u00eda en el ciclo pues las tres gr\u00e1ficas muestran que la part\u00edcula se va encontrar en el orig\u00e9n dos veces por ciclo. En la tercera trayectoria se nota que la part\u00edcula inicia en el origen, hace una trayectoria de \"medio ocho\" en los cuadrantes 2 y 3 del plano complejo y vuelve al origen, entonces inicia su trayectoria en los cuadrantes 1 y 4 que es sim\u00e9trica a la trayectoria previa, como se muestra en: http://www14.in.tum.de/konferenzen/Jass05/courses/2/Lapshin/Lapshin_paper.pdf. As\u00ed se concluye que s\u00ed la part\u00edcula inicia en el origen, medio ciclo corresponde al tiempo en que la part\u00edcula vuelve a este. Por ello se usa la funci\u00f3n miny de la tarea 4: https://raw.githubusercontent.com/deolaya1318/MC/master/Tareas/HW4/HW4.ipynb, para encontrar los puntos donde la distancia al origen es m\u00ednima y as\u00ed determinar el periodo del ciclo de acuerdo a lo discutido previamente."
     ]
    },
    {
     "cell_type": "code",
     "collapsed": false,
     "input": [
      "#Primero se crea una variable que calcule la distancia al origen de la part\u00edcula 3. La funci\u00f3n abs realiza esta\n",
      "#operaci\u00f3n en vectores complejos. As\u00ed se han encontrado las posiciones donde esta distancia es un m\u00ednimo. Ahora se\n",
      "#usan las posici\u00f3nes y se encuentran los tiempos correspondientes al momento inicial desde donde inicia la part\u00edcula 3\n",
      "#hasta que vuelve a llegar al origen, marcando medio ciclo. \n",
      "dist = np.abs(r[:,2])\n",
      "miny = np.r_[True, dist[1:] < dist[:-1]] & np.r_[dist[:-1] < dist[1:], True]\n",
      "tmin = t[miny]\n",
      "periodo = tmin[1]*2\n",
      "print \"El periodo del ciclo del movimiento de las part\u00edculas es: \" + str(round(periodo,3))"
     ],
     "language": "python",
     "metadata": {},
     "outputs": [
      {
       "output_type": "stream",
       "stream": "stdout",
       "text": [
        "El periodo del ciclo del movimiento de las part\u00edculas es: 0.791\n"
       ]
      }
     ],
     "prompt_number": 19
    },
    {
     "cell_type": "heading",
     "level": 3,
     "metadata": {},
     "source": [
      "c) Realizar la animaci\u00f3n"
     ]
    },
    {
     "cell_type": "code",
     "collapsed": false,
     "input": [
      "#Para hacer la animaci\u00f3n se resuelve el sistema de ecuaciones acopladas para graficar todo un periodo del ciclo.\n",
      "hs = 0.001\n",
      "tfin = periodo\n",
      "N = int(tfin/hs)\n",
      "t = np.zeros(N)    \n",
      "r = np.zeros((N,3),dtype=np.complex)\n",
      "p = np.zeros((N,3),dtype=np.complex)\n",
      "r[0] = np.array([a + b*1j, -a - b*1j, 0 + 0*1j]) \n",
      "p[0] = np.array([c + d*1j, c + d*1j, -2*c - 2*d*1j])\n",
      "r,p,t = rK4(N, r, p, fr, fp, t, hs)"
     ],
     "language": "python",
     "metadata": {},
     "outputs": [],
     "prompt_number": 20
    },
    {
     "cell_type": "code",
     "collapsed": false,
     "input": [
      "#Con los valores de posici\u00f3n para las tres part\u00edculas calculadas en el anterior paso, se procede a realizar la\n",
      "#animaci\u00f3n como es descrito en: https://jakevdp.github.io/blog/2012/08/18/matplotlib-animation-tutorial/ y en:\n",
      "#http://nbviewer.ipython.org/github/ComputoCienciasUniandes/MetodosComputacionales/blob/master/slides/2015-V/\n",
      "#05-matplotlib%20-%201.ipynb\n",
      "\n",
      "#La funci\u00f3n FuncAnimation toma como argumentos la figura, la funci\u00f3n animaci\u00f3n y el n\u00famero de frames de la\n",
      "#animaci\u00f3n. Para comenzar se inicializa la figura y se asigna a una lista los tipos de colores que puede\n",
      "#tener cada part\u00edcula en la animaci\u00f3n.\n",
      "fig = plt.figure()\n",
      "ax = fig.add_subplot(111)\n",
      "colores = ['b','g','r']\n",
      "\n",
      "#Ahora se define la funcion anima, que precisamente realiza una imagen por un frame de entrada. Para realizar\n",
      "#la animaci\u00f3n como es mostrado en el enunciado se usa lo mostrado en la segunda referencia, en donde se escoge\n",
      "#un delta desde el cual se grafica la trayectoria hasta el frame.\n",
      "def anima(frame):\n",
      "    ax.cla()\n",
      "    ax.grid()\n",
      "    ax.set_aspect('equal')\n",
      "    delta = frame-20\n",
      "    for i in range(3):\n",
      "        if frame >= 20:\n",
      "            ax.plot(np.real(r[delta:frame,i]),np.imag(r[delta:frame,i]),colores[i],lw=1)\n",
      "        else:\n",
      "            conc = np.concatenate((r[delta:,i],r[:frame,i]))\n",
      "            ax.plot(np.real(conc),np.imag(conc),colores[i],lw=2)\n",
      "        ax.scatter(np.real(r[frame,i]),np.imag(r[frame,i]), color = colores[i])\n",
      "    ax.plot(np.real(r[:,2]),np.imag(r[:,2]),'--k',lw=0.5)\n",
      "    ax.set_title(u'Animaci\u00f3n de 3 Cuerpos')\n",
      "    \n",
      "#El n\u00famero de frames usados en la animaci\u00f3n corresponde al n\u00famero de datos de las listas de posici\u00f3n. Adem\u00e1s\n",
      "#se escoge un velocidad de reproducci\u00f3n (fps) que permita observar el movimiento de las part\u00edculas\n",
      "ani = animation.FuncAnimation( fig,  anima, frames=N)\n",
      "ani.save('3cuerpos.gif',fps=40,writer='imagemagick')\n",
      "plt.close(fig)"
     ],
     "language": "python",
     "metadata": {},
     "outputs": [],
     "prompt_number": 21
    },
    {
     "cell_type": "heading",
     "level": 2,
     "metadata": {},
     "source": [
      "4-Coreograf\u00eda"
     ]
    },
    {
     "cell_type": "heading",
     "level": 3,
     "metadata": {},
     "source": [
      "a) Encontrar _a_ con cuatro cifras significativas"
     ]
    },
    {
     "cell_type": "markdown",
     "metadata": {},
     "source": [
      "En este caso se debe resolver la ecuaci\u00f3n de fuerza gravitacional, pero para 4 cuerpos: "
     ]
    },
    {
     "cell_type": "markdown",
     "metadata": {},
     "source": [
      "$m_i\\frac{d^2r}{dt^2}=- \\sum\\limits_{i\\neq j} \\frac{Gm_im_j(r_i-r_j)}{r_{ij}^3}$ para $i = 1,...,4$"
     ]
    },
    {
     "cell_type": "markdown",
     "metadata": {},
     "source": [
      "Usando la misma t\u00e9cnica usada previamente, se describe este sistema con dos ecuaciones diferenciales de primer orden:"
     ]
    },
    {
     "cell_type": "markdown",
     "metadata": {},
     "source": [
      "$r'=p$"
     ]
    },
    {
     "cell_type": "markdown",
     "metadata": {},
     "source": [
      "$p'=\\sum\\limits_{i\\neq j}\\frac{(r_i-r_j)}{r_{ij}^3}$ para $i = 1,...,4$"
     ]
    },
    {
     "cell_type": "markdown",
     "metadata": {},
     "source": [
      "Usando el m\u00e9todo de runge kutta implementado en la primera parte de la tarea se pueden resolver estas dos ecuaciones diferenciales de primer orden. Se nota que las masas y la constante de gravitaci\u00f3n universal tienen unidades unitarias"
     ]
    },
    {
     "cell_type": "code",
     "collapsed": false,
     "input": [
      "#Primero que todo se definen las funciones que corresponden a las ecuaciones diferenciales descritas previamente.\n",
      "#Al igual que el caso anterior, se usa la funci\u00f3n roll de numpy para cambiar el orden de los vectores de posici\u00f3n.\n",
      "def fr(rk, pk):\n",
      "    return pk\n",
      "def fp(rk, pk):\n",
      "    rba = np.roll(rk,1)-rk\n",
      "    rca = np.roll(rk,2)-rk\n",
      "    rda = np.roll(rk,3)-rk\n",
      "    return (rda/(np.abs(rda)**3)+rca/(np.abs(rca)**3)+rba/(np.abs(rba)**3))"
     ],
     "language": "python",
     "metadata": {},
     "outputs": [],
     "prompt_number": 11
    },
    {
     "cell_type": "code",
     "collapsed": false,
     "input": [
      "#Se inicia las listas que guardan informaci\u00f3n del tiempo, posici\u00f3n y momento de la part\u00edcula. La lista de\n",
      "#tiempo es unidimensional, mientras que las listas de posici\u00f3n y momento son 4D, pues guardan esta informaci\u00f3n\n",
      "#de las cuatro part\u00edculas en su plano complejo. Se escoge un paso con tres cifras significativas para luego\n",
      "#hallar en el ciclo descrito a continuaci\u00f3n el valor de la incognita a con 5 cifras significativas. Adem\u00e1s el\n",
      "#periodo del ciclo corresponde a una unidad de tiempo\n",
      "hs = 0.001\n",
      "tfin = 1\n",
      "N = int(tfin/hs)\n",
      "ra = 0.384277200514\n",
      "rb = 0.0\n",
      "rc = 0.0156823005697\n",
      "rd = 0.13966430504\n",
      "re = 0.352912599375\n",
      "pa = 2.01155925929\n",
      "pb = 0.0\n",
      "pc = 1.19817066623\n",
      "pd = 1.63619158614\n",
      "t = np.zeros(N)    \n",
      "r = np.zeros((N,4),dtype=np.complex)\n",
      "p = np.zeros((N,4),dtype=np.complex)\n",
      "\n",
      "#Como el periodo del ciclo es igual a una unidad de tiempo, se escoge como funci\u00f3n objetivo la distancia entre el\n",
      "#punto inicial y el punto final de la trayectoria. Entonces se realiza un ciclo que recorra cada uno de los valores\n",
      "#que puede tener a en mil puntos entre 0.7 y 0.78 y estableza las condiciones iniciales de la posici\u00f3n y el momento\n",
      "#Entonces para cada condici\u00f3n inicial resuelve las ecuaciones de movimiento y calcula el valor de la funci\u00f3n\n",
      "#objetivo. El ciclo debe resolver 1000 sistemas descritos por las ecuaciones de movimiento, por lo cual este\n",
      "#proceso se demora aproximadamente 10 minutos. Se intento realizar 100, 500 y 700 ciclos. Se noto que el tiempo que\n",
      "#toma el proceso se reduce, sin embargo no se obtuvo el valor correcto de a para obtener las misma graficas de\n",
      "#energ\u00eda potencial, cin\u00e9tica y total del enunciado de la tarea.\n",
      "obj = np.zeros(1000)\n",
      "i = 0\n",
      "for a in np.linspace(0.70,0.78,1000):\n",
      "    r[0] = np.array([ra + rb*1j, -rc - rd*1j, -re + rb*1j, -rc + rd*1j]) \n",
      "    p[0] = np.array([pb + a*1j, -pa - pc*1j, pb + pd*1j, pa - pc*1j])\n",
      "    r,p,t = rK4(N, r, p, fr, fp, t, hs)\n",
      "    obj[i] = np.abs(np.abs(r[0,0]) - np.abs(r[-1,0]))\n",
      "    i += 1"
     ],
     "language": "python",
     "metadata": {},
     "outputs": [],
     "prompt_number": 12
    },
    {
     "cell_type": "code",
     "collapsed": false,
     "input": [
      "#La posici\u00f3n donde esta el m\u00ednimo de la funci\u00f3n objetivo corresponde a la posici\u00f3n del valor de la incognita a.\n",
      "#Usamos la funci\u00f3n argmin de numpy para hallar la posici\u00f3n del valor m\u00ednimo de una lista.\n",
      "a = np.linspace(0.70,0.78,1000)\n",
      "mininda = argmin(obj)\n",
      "print \"Se ha comprobado que la distancia entre el punto final y el punto inicial es el m\u00ednimo: \"+str(obj[mininda])\n",
      "print \"El valor de la incognita a es: \" +str(round(a[mininda],5)) "
     ],
     "language": "python",
     "metadata": {},
     "outputs": [
      {
       "output_type": "stream",
       "stream": "stdout",
       "text": [
        "Se ha comprobado que la distancia entre el punto final y el punto inicial es el m\u00ednimo: 1.10617399691e-05\n",
        "El valor de la incognita a es: 0.76014\n"
       ]
      }
     ],
     "prompt_number": 13
    },
    {
     "cell_type": "heading",
     "level": 3,
     "metadata": {},
     "source": [
      "b) Graficar la energ\u00eda potencial, cin\u00e9tica y total"
     ]
    },
    {
     "cell_type": "markdown",
     "metadata": {},
     "source": [
      "La energ\u00eda potencial gravitacional del sistema de 4 masas se puede escribir como:"
     ]
    },
    {
     "cell_type": "markdown",
     "metadata": {},
     "source": [
      "$U=-\\frac{1}{2} \\sum\\limits_{i=1}^{4}\\sum\\limits_{i\\neq j} \\frac{Gm_i}{r_{ij}} = -\\frac{1}{2} \\sum\\limits_{i=1}^{4}\\sum\\limits_{i\\neq j} \\frac{1}{r_{ij}}$"
     ]
    },
    {
     "cell_type": "markdown",
     "metadata": {},
     "source": [
      "donde $r_{ij}$ es la distancia entre la part\u00edcula $m_i$ y $m_j$. Adem\u00e1s se divide en dos pues con esta sumatoria, se realiza un doble conteo de las distancias."
     ]
    },
    {
     "cell_type": "markdown",
     "metadata": {},
     "source": [
      "La energ\u00eda cin\u00e9tica de un sistema de 4 part\u00edculas es:"
     ]
    },
    {
     "cell_type": "markdown",
     "metadata": {},
     "source": [
      "$K=\\sum\\limits_{i=1}^{4} \\frac{p_i^2}{2m_i}=\\sum\\limits_{i=1}^{4} \\frac{p_i^2}{2}$"
     ]
    },
    {
     "cell_type": "markdown",
     "metadata": {},
     "source": [
      "donde $p_i$ es el momento de la part\u00edcula $m_i$. Notamos en ambos resultados que se ha aplicado las masas y la constante de gravitaci\u00f3n unitarias. La energ\u00eda total del sistema es la suma de la energ\u00eda potencial y la energ\u00eda cin\u00e9tica: $T = U + K$"
     ]
    },
    {
     "cell_type": "code",
     "collapsed": false,
     "input": [
      "#Ya que se conoce el valor de la incognita a, se resuelve el sistema de ecuaciones diferenciales con las condiciones\n",
      "#iniciales dadas por este valor. \n",
      "af = a[mininda]#0.76014\n",
      "r[0] = np.array([ra + rb*1j, -rc - rd*1j, -re + rb*1j, -rc + rd*1j]) \n",
      "p[0] = np.array([pb + af*1j, -pa - pc*1j, pb + pd*1j, pa - pc*1j])\n",
      "r,p,t = rK4(N, r, p, fr, fp, t, hs)\n",
      "#Para calcular el valor de la energ\u00eda potencial debemos encontrar la distancia entre las part\u00edculas, por ello\n",
      "#debemos cambiar el orden de los vectores de posici\u00f3n usando la funci\u00f3n roll. \n",
      "rba = np.abs(np.roll(r,1)-r)\n",
      "rca = np.abs(np.roll(r,2)-r)\n",
      "rda = np.abs(np.roll(r,3)-r)\n",
      "U = -(np.sum(1/rda + 1/rca + 1/rba,axis=1))/2\n",
      "K = np.sum((np.abs(p)**2)/2.0,axis=1)\n",
      "E = U + K\n",
      "#Por \u00faltimo, se usa las herramientas de matplotlib para graficar las energ\u00edas calculadas\n",
      "fig,ax = plt.subplots(1,1,figsize=(10,5),sharex=True,sharey=True)\n",
      "ax.plot(t,U, label=u'Energ\u00eda Potencial U')\n",
      "ax.plot(t,K, label=u'Energ\u00eda Cin\u00e9tica K')\n",
      "ax.plot(t,E, label=u'Energ\u00eda Total K+U')\n",
      "ax.legend()\n",
      "plt.show()"
     ],
     "language": "python",
     "metadata": {},
     "outputs": [
      {
       "metadata": {},
       "output_type": "display_data",
       "png": "[encoded data removed]",
       "text": [
        "<matplotlib.figure.Figure at 0x7fe164ad0f90>"
       ]
      }
     ],
     "prompt_number": 14
    },
    {
     "cell_type": "heading",
     "level": 3,
     "metadata": {},
     "source": [
      "c) Realizar la animaci\u00f3n"
     ]
    },
    {
     "cell_type": "code",
     "collapsed": false,
     "input": [
      "#Los valores de posici\u00f3n hallados previamente se usan para realizar la animaci\u00f3n del sistema de 4 part\u00edculas\n",
      "#Se usa el mismo formato de animaci\u00f3n que en el punto de la 3-Coreograf\u00eda.\n",
      "\n",
      "fig = plt.figure()\n",
      "ax = fig.add_subplot(111)\n",
      "colores = ['b','g','r','y']\n",
      "\n",
      "def anima(frame):\n",
      "    ax.cla()\n",
      "    ax.grid()\n",
      "    ax.set_aspect('equal')\n",
      "    delta = frame-20\n",
      "    for i in range(4):\n",
      "        if frame >= 20:\n",
      "            ax.plot(np.real(r[delta:frame,i]),np.imag(r[delta:frame,i]),colores[i],lw=1)\n",
      "        else:\n",
      "            conc = np.concatenate((r[delta:,i],r[:frame,i]))\n",
      "            ax.plot(np.real(conc),np.imag(conc),colores[i],lw=2)\n",
      "        ax.scatter(np.real(r[frame,i]),np.imag(r[frame,i]), color = colores[i])\n",
      "    ax.plot(np.real(r[:,2]),np.imag(r[:,2]),'--k',lw=0.5)\n",
      "    ax.set_title(u'Animaci\u00f3n de 4 Cuerpos')\n",
      "\n",
      "ani = animation.FuncAnimation( fig,  anima, frames=N)\n",
      "ani.save('4cuerpos.gif',fps=40,writer='imagemagick')\n",
      "plt.close(fig)"
     ],
     "language": "python",
     "metadata": {},
     "outputs": [],
     "prompt_number": 15
    },
    {
     "cell_type": "code",
     "collapsed": false,
     "input": [],
     "language": "python",
     "metadata": {},
     "outputs": []
    }
   ],
   "metadata": {}
  }
 ]
}