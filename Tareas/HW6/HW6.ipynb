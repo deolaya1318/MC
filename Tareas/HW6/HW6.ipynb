{
 "metadata": {
  "name": "",
  "signature": "sha256:62305c978df544abaa1501c2445a2734ee89695eb972545b566ebab587dc0480"
 },
 "nbformat": 3,
 "nbformat_minor": 0,
 "worksheets": [
  {
   "cells": [
    {
     "cell_type": "code",
     "collapsed": false,
     "input": [
      "import numpy as np\n",
      "import matplotlib as mpl\n",
      "import matplotlib.pyplot as plt\n",
      "import os\n",
      "from sympy import *\n",
      "%pylab inline "
     ],
     "language": "python",
     "metadata": {},
     "outputs": [],
     "prompt_number": 6
    },
    {
     "cell_type": "code",
     "collapsed": false,
     "input": [
      "t, fn, fn1, h, tn, tn1 = symbols('t fn fn1 h tn tn1')\n",
      "simplify(integrate(fn1*(t-tn)/(tn1-tn)+fn*(t-tn1)/(tn-tn1),(t,tn,tn+h)))"
     ],
     "language": "python",
     "metadata": {},
     "outputs": [],
     "prompt_number": 7
    },
    {
     "cell_type": "code",
     "collapsed": false,
     "input": [
      "xmin = -1500\n",
      "xmax = 1500\n",
      "ymin = -1500\n",
      "ymax = 1500\n",
      "zmin = -1500\n",
      "zmax = 1500\n",
      "N = 100\n",
      "xcoords = np.linspace(xmin,xmax,N)\n",
      "ycoords = np.linspace(ymin,ymax,N)\n",
      "zcoords = np.linspace(zmin,zmax,N)\n",
      "placa = np.zeros((N,N,N))\n",
      "cte = 12\n",
      "numiter = 100\n",
      "for __ in range(numiter):\n",
      "    placa = 1/6.*(np.roll(placa,1,axis=0)+np.roll(placa,1,axis=1)+np.roll(placa,1,axis=2)+np.roll(placa,-1,axis=0)+np.roll(placa,-1,axis=1)+np.roll(placa,-1,axis=2))\n",
      "    placa[0] = 0.\n",
      "    placa[:,0,:] = 0.\n",
      "    placa[:,-1,:] = 0.\n",
      "    placa[:,:,0] = 0.\n",
      "    placa[:,:,-1] = 0.\n",
      "    placa[-1] = 0."
     ],
     "language": "python",
     "metadata": {},
     "outputs": [],
     "prompt_number": 3
    },
    {
     "cell_type": "code",
     "collapsed": false,
     "input": [
      "fig=plt.figure(figsize=(10,10))\n",
      "plt.pcolor(xcoords,ycoords,np.abs(placa[len(placa)/2]),cmap='gist_heat')\n",
      "plt.xlim(xmin,xmax)\n",
      "plt.ylim(ymin,ymax)"
     ],
     "language": "python",
     "metadata": {},
     "outputs": [],
     "prompt_number": 4
    },
    {
     "cell_type": "code",
     "collapsed": false,
     "input": [],
     "language": "python",
     "metadata": {},
     "outputs": []
    }
   ],
   "metadata": {}
  }
 ]
}