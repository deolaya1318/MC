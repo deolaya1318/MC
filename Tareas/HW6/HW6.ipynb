{
 "metadata": {
  "name": "",
  "signature": "sha256:62305c978df544abaa1501c2445a2734ee89695eb972545b566ebab587dc0480"
 },
 "nbformat": 3,
 "nbformat_minor": 0,
 "worksheets": [
  {
   "cells": [
    {
     "cell_type": "code",
     "collapsed": false,
     "input": [
      "import numpy as np\n",
      "import matplotlib as mpl\n",
      "import matplotlib.pyplot as plt\n",
      "import os\n",
      "from sympy import *\n",
      "%matplotlib inline "
     ],
     "language": "python",
     "metadata": {},
     "outputs": [],
     "prompt_number": 37
    },
    {
     "cell_type": "code",
     "collapsed": false,
     "input": [
      "t, fn, fn1, h, tn, tn1 = symbols('t fn fn1 h tn tn1')\n",
      "simplify(integrate(fn1*(t-tn)/(tn1-tn)+fn*(t-tn1)/(tn-tn1),(t,tn,tn+h)))"
     ],
     "language": "python",
     "metadata": {},
     "outputs": [
      {
       "metadata": {},
       "output_type": "pyout",
       "prompt_number": 38,
       "text": [
        "h*(fn*h + 2*fn*tn - 2*fn*tn1 - fn1*h)/(2*(tn - tn1))"
       ]
      }
     ],
     "prompt_number": 38
    },
    {
     "cell_type": "code",
     "collapsed": false,
     "input": [
      "ladopot = 3000\n",
      "ladodens = 270\n",
      "ladounit = 30\n",
      "xminpot = -ladopot/2\n",
      "xmaxpot = ladopot/2\n",
      "yminpot = -ladopot/2\n",
      "ymaxpot = ladopot/2\n",
      "zminpot = -ladopot/2\n",
      "zmaxpot = ladopot/2\n",
      "Ncubo = ladopot/ladounit+1\n",
      "Ndens = ladodens/ladounit+1\n",
      "xcoords = np.linspace(xmin,xmax,Ncubo)\n",
      "ycoords = np.linspace(ymin,ymax,Ncubo)\n",
      "zcoords = np.linspace(zmin,zmax,Ncubo)\n",
      "pot = np.zeros((Ncubo,Ncubo,Ncubo))\n",
      "dens = np.zeros((Ncubo,Ncubo,Ncubo))\n",
      "density = 400\n",
      "G = 1\n",
      "m = 1\n",
      "constant = 4*np.pi*G\n",
      "dens[round(float(Ncubo-Ndens)/2):round(float(Ncubo+Ndens)/2),round(float(Ncubo-Ndens)/2):round(float(Ncubo+Ndens)/2),round(float(Ncubo-Ndens)/2):round(float(Ncubo+Ndens)/2)] = density\n",
      "xmesh,ymesh,zmesh=np.meshgrid(xcoords,ycoords,zcoords)\n",
      "pot = G*m/np.sqrt(xmesh**2+ymesh**2+zmesh**2)\n",
      "numiter = 100\n",
      "for __ in range(numiter):\n",
      "    pot = 1/6.*(np.roll(pot,1,axis=0)+np.roll(pot,1,axis=1)+np.roll(pot,1,axis=2)+np.roll(pot,-1,axis=0)+np.roll(pot,-1,axis=1)+np.roll(pot,-1,axis=2)-constant*dens)\n",
      "    pot[0] = 0.\n",
      "    pot[:,0,:] = 0.\n",
      "    pot[:,-1,:] = 0.\n",
      "    pot[:,:,0] = 0.\n",
      "    pot[:,:,-1] = 0.\n",
      "    pot[-1] = 0."
     ],
     "language": "python",
     "metadata": {},
     "outputs": [],
     "prompt_number": 41
    },
    {
     "cell_type": "code",
     "collapsed": false,
     "input": [
      "fig=plt.figure(figsize=(10,10))\n",
      "plt.pcolor(xcoords,ycoords,np.abs(pot[len(placa)-1]),cmap='gist_heat')\n",
      "plt.xlim(xmin,xmax)\n",
      "plt.ylim(ymin,ymax)"
     ],
     "language": "python",
     "metadata": {},
     "outputs": [
      {
       "metadata": {},
       "output_type": "pyout",
       "prompt_number": 42,
       "text": [
        "(-1500, 1500)"
       ]
      },
      {
       "output_type": "stream",
       "stream": "stderr",
       "text": [
        "/usr/lib/pymodules/python2.7/matplotlib/colors.py:918: RuntimeWarning: invalid value encountered in true_divide\n",
        "  resdat /= (vmax - vmin)\n",
        "/usr/lib/pymodules/python2.7/matplotlib/colors.py:576: RuntimeWarning: invalid value encountered in less\n",
        "  cbook._putmask(xa, xa < 0.0, -1)\n"
       ]
      },
      {
       "metadata": {},
       "output_type": "display_data",
       "png": "[encoded data removed]",
       "text": [
        "<matplotlib.figure.Figure at 0x7fa5345ccc50>"
       ]
      }
     ],
     "prompt_number": 42
    },
    {
     "cell_type": "code",
     "collapsed": false,
     "input": [],
     "language": "python",
     "metadata": {},
     "outputs": []
    }
   ],
   "metadata": {}
  }
 ]
}