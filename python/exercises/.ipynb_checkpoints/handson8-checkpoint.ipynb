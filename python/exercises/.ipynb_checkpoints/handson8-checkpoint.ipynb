{
 "metadata": {
  "name": "",
  "signature": "sha256:5c0cfb42f184784dfd817c7ae6b627716dc116d76f2012f3a69c37387db7cb3a"
 },
 "nbformat": 3,
 "nbformat_minor": 0,
 "worksheets": [
  {
   "cells": [
    {
     "cell_type": "code",
     "collapsed": false,
     "input": [
      "pylab\n",
      "from scipy.optimize import root"
     ],
     "language": "python",
     "metadata": {},
     "outputs": [],
     "prompt_number": 5
    },
    {
     "cell_type": "code",
     "collapsed": false,
     "input": [
      "iomass = 8.931938*10**22 \n",
      "jupitermass = 1.8986*10**27 \n",
      "d = 421800\n",
      "def func(r,d,iomass,jupitermass):\n",
      "    return jupitermass/(d-r)**2=iomass/r**2+((jupitermass/(jupitermass+iomass)*d)-r)*(jupitermass+iomass)/d**3\n",
      "sol = root(func)\n",
      "aprox = d**3*pow((iomass/(3*jupitermass)),0.5)\n",
      "print sol, aprox"
     ],
     "language": "python",
     "metadata": {},
     "outputs": [],
     "prompt_number": 4
    },
    {
     "cell_type": "markdown",
     "metadata": {},
     "source": [
      "![](https://upload.wikimedia.org/math/9/7/9/97950dc478d0910baae7e494ac6f9a90.png)\n",
      "![](https://upload.wikimedia.org/math/a/a/8/aa8238630357939a5327ec9f4eb7b3d4.png)"
     ]
    },
    {
     "cell_type": "markdown",
     "metadata": {},
     "source": [
      "![](https://raw.githubusercontent.com/ComputoCienciasUniandes/MetodosComputacionales/master/hands_on/figures/nicewave.png)"
     ]
    },
    {
     "cell_type": "code",
     "collapsed": false,
     "input": [
      "from scipy.integrate import quad"
     ],
     "language": "python",
     "metadata": {},
     "outputs": [],
     "prompt_number": 6
    },
    {
     "cell_type": "code",
     "collapsed": false,
     "input": [],
     "language": "python",
     "metadata": {},
     "outputs": []
    }
   ],
   "metadata": {}
  }
 ]
}