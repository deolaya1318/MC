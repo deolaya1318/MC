{
 "metadata": {
  "name": ""
 },
 "nbformat": 3,
 "nbformat_minor": 0,
 "worksheets": [
  {
   "cells": [
    {
     "cell_type": "code",
     "collapsed": false,
     "input": [
      "pylab\n",
      "from scipy.optimize import root"
     ],
     "language": "python",
     "metadata": {},
     "outputs": [],
     "prompt_number": 3
    },
    {
     "cell_type": "code",
     "collapsed": false,
     "input": [
      "iomass = 8.931938*10**22 \n",
      "jupitermass = 1.8986*10**27 \n",
      "d = 421800\n",
      "def func(r,d,iomass,jupitermass):\n",
      "    return jupitermass/("
     ],
     "language": "python",
     "metadata": {},
     "outputs": [],
     "prompt_number": 6
    },
    {
     "cell_type": "markdown",
     "metadata": {},
     "source": [
      "![](https://upload.wikimedia.org/math/9/7/9/97950dc478d0910baae7e494ac6f9a90.png)"
     ]
    },
    {
     "cell_type": "code",
     "collapsed": false,
     "input": [],
     "language": "python",
     "metadata": {},
     "outputs": []
    }
   ],
   "metadata": {}
  }
 ]
}