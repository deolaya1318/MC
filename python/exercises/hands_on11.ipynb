{
 "metadata": {
  "name": "",
  "signature": "sha256:158b74c2341d775dea459a76109aa53e9b24ebc682f70c63429892fb3248b8e5"
 },
 "nbformat": 3,
 "nbformat_minor": 0,
 "worksheets": [
  {
   "cells": [
    {
     "cell_type": "code",
     "collapsed": false,
     "input": [
      "import numpy as np\n",
      "import matplotlib as mpl\n",
      "import matplotlib.pyplot as plt\n",
      "import os\n",
      "%matplotlib inline\n",
      "from scipy import interpolate \n",
      "from scipy.integrate import odeint\n",
      "from scipy.integrate import ode"
     ],
     "language": "python",
     "metadata": {},
     "outputs": [],
     "prompt_number": 13
    },
    {
     "cell_type": "code",
     "collapsed": false,
     "input": [
      "tmin=0\n",
      "tmax=.3105882/2.\n",
      "xmin=-0.33  # en metros\n",
      "xmax=0.33   # en metros\n",
      "ymin=-0.33\n",
      "ymax=0.33\n",
      "Nt=6000\n",
      "Nl=30\n",
      "dt=(tmax-tmin)/Nt\n",
      "dx=(xmax-xmin)/Nl\n",
      "dy=(ymax-ymin)/Nl\n",
      "v=425. # m/s\n",
      "r=v*dt/dx\n",
      "print \"r=\",r\n",
      "#extremos fijos\n",
      "xcoords=np.linspace(xmin,xmax,Nl)\n",
      "ycoords=np.linspace(ymin,ymax,Nl)\n",
      "xmesh,ymesh=np.meshgrid(xcoords,ycoords)\n",
      "tcoords=np.linspace(tmin,tmax,Nt)\n",
      "drum=np.zeros((Nt,Nl,Nl))\n",
      "# fijar la condici\u00f3n inicial\n",
      "stdev=0.1\n",
      "drum[0]=np.exp(-xmesh**2/(2*stdev**2))*np.exp(-ymesh**2/(2*stdev**2))\n",
      "drum[1]=drum[0]+r**2/2.*(np.roll(drum[0],1,axis=0)+np.roll(drum[0],-1,axis=0)+np.roll(drum[0],1,axis=1)+np.roll(drum[0],-1,axis=1)-4*drum[0])\n",
      "drum[0,0]=0\n",
      "drum[0,-1]=0\n",
      "drum[1,:,0]=0\n",
      "drum[1,:,-1]=0\n",
      "# Mostrar la condici\u00f3n inicial\n",
      "#plt.figure(figsize=(10,3))\n",
      "#plt.imshow(drum[0],cmap='gist_heat')\n",
      "#plt.show()"
     ],
     "language": "python",
     "metadata": {},
     "outputs": [
      {
       "output_type": "stream",
       "stream": "stdout",
       "text": [
        "r= 0.499999943182\n"
       ]
      }
     ],
     "prompt_number": 14
    },
    {
     "cell_type": "code",
     "collapsed": false,
     "input": [
      "for i in range(2,Nt):\n",
      "    pdrum=drum[i-1]\n",
      "    ppdrum=drum[i-2]\n",
      "    drum[i]=2*(1.-2.*r**2)*pdrum-ppdrum+r**2*(np.roll(pdrum,1,axis=1)+np.roll(pdrum,-1,axis=1)+np.roll(pdrum,1,axis=0)+np.roll(pdrum,-1,axis=0))\n",
      "    drum[i,0]=0\n",
      "    drum[i,-1]=0\n",
      "    drum[i,:,0]=drum[i,:,1]\n",
      "    drum[i,:,-1]=drum[i,:,-2]"
     ],
     "language": "python",
     "metadata": {},
     "outputs": [],
     "prompt_number": 22
    },
    {
     "cell_type": "code",
     "collapsed": false,
     "input": [
      "# Animaci\u00f3n\n",
      "\n",
      "from matplotlib import animation\n",
      "# Placa fr\u00eda con borde caliente\n",
      "\n",
      "fig=plt.figure(figsize=(10,10))\n",
      "plt.hold(True)\n",
      "plt.pcolor(xcoords,ycoords,np.abs(drum[0]),cmap='gist_heat',vmin=0.,vmax=1.)\n",
      "plt.xlim(xmin+dx,xmax-dx)\n",
      "plt.ylim(ymin+dy,ymax-dy)\n",
      "#plt.colorbar()\n",
      "\n",
      "def animate(i):\n",
      "    plt.pcolor(xcoords,ycoords,np.abs(drum[i]),cmap='gist_heat',vmin=0.,vmax=1.)\n",
      "    plt.xlim(xmin+dx,xmax-dx)\n",
      "    plt.ylim(ymin+dy,ymax-dy)\n",
      "animacion = animation.FuncAnimation(fig, animate, np.arange(1,len(drum)),interval=20, blit=False)\n",
      "plt.show()\n"
     ],
     "language": "python",
     "metadata": {},
     "outputs": [
      {
       "metadata": {},
       "output_type": "display_data",
       "png": "[encoded data removed]",
       "text": [
        "<matplotlib.figure.Figure at 0x7f2d1400f450>"
       ]
      }
     ],
     "prompt_number": 26
    },
    {
     "cell_type": "code",
     "collapsed": false,
     "input": [],
     "language": "python",
     "metadata": {},
     "outputs": []
    }
   ],
   "metadata": {}
  }
 ]
}