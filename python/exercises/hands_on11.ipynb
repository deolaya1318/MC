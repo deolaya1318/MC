{
 "metadata": {
  "name": "",
  "signature": "sha256:40661f7844c1b7eeca89a57adf7434e9d91e3773213d2e1076ae322f51796c84"
 },
 "nbformat": 3,
 "nbformat_minor": 0,
 "worksheets": [
  {
   "cells": [
    {
     "cell_type": "code",
     "collapsed": false,
     "input": [
      "import numpy as np\n",
      "import matplotlib as mpl\n",
      "import matplotlib.pyplot as plt\n",
      "import os\n",
      "%matplotlib inline\n",
      "from scipy import interpolate \n",
      "from scipy.integrate import odeint\n",
      "from scipy.integrate import ode"
     ],
     "language": "python",
     "metadata": {},
     "outputs": [],
     "prompt_number": 1
    },
    {
     "cell_type": "code",
     "collapsed": false,
     "input": [],
     "language": "python",
     "metadata": {},
     "outputs": []
    }
   ],
   "metadata": {}
  }
 ]
}