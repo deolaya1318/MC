{
 "metadata": {
  "name": ""
 },
 "nbformat": 3,
 "nbformat_minor": 0,
 "worksheets": [
  {
   "cells": [
    {
     "cell_type": "code",
     "collapsed": false,
     "input": [
      "import numpy as np\n",
      "import matplotlib as mpl\n",
      "import matplotlib.pyplot as plt\n",
      "%pylab inline"
     ],
     "language": "python",
     "metadata": {},
     "outputs": [
      {
       "output_type": "stream",
       "stream": "stdout",
       "text": [
        "Populating the interactive namespace from numpy and matplotlib\n"
       ]
      }
     ],
     "prompt_number": 1
    },
    {
     "cell_type": "code",
     "collapsed": false,
     "input": [
      "from sympy import *\n",
      "t, fn, fn1, h, tn, tn1 = symbols('t fn fn1 h tn tn1')\n",
      "integrate(fn1*(t-tn)/(tn1-tn)+fn*(t-tn1)/(tn-tn1),(t,tn,tn+h))"
     ],
     "language": "python",
     "metadata": {},
     "outputs": [
      {
       "metadata": {},
       "output_type": "pyout",
       "prompt_number": 10,
       "text": [
        "-tn**2*(fn - fn1)/(2*tn - 2*tn1) - tn*(-fn*tn1 + fn1*tn)/(tn - tn1) + (fn - fn1)*(h + tn)**2/(2*tn - 2*tn1) + (h + tn)*(-fn*tn1 + fn1*tn)/(tn - tn1)"
       ]
      }
     ],
     "prompt_number": 10
    },
    {
     "cell_type": "code",
     "collapsed": false,
     "input": [
      "from scipy.integrate import odeint\n",
      "from scipy.integrate import ode\n",
      "sigma=10.\n",
      "rho=28.\n",
      "beta=8./3.\n",
      "# Las ecuaciones del sistema de Lorentz son no lineales y acopladas.\n",
      "def fun(Y,t):\n",
      "    return np.array([sigma*(Y[1]-Y[0]),Y[0]*(rho-Y[2])-Y[1],Y[0]*Y[1]-beta*Y[2]]) "
     ],
     "language": "python",
     "metadata": {},
     "outputs": [],
     "prompt_number": 12
    },
    {
     "cell_type": "code",
     "collapsed": false,
     "input": [
      "tmax=50\n",
      "times=np.linspace(0,tmax,10000)\n",
      "funsol,others=odeint(fun,[1.,0.,1.],times,full_output=True,printmessg=True)"
     ],
     "language": "python",
     "metadata": {},
     "outputs": [
      {
       "output_type": "stream",
       "stream": "stdout",
       "text": [
        "Integration successful.\n"
       ]
      }
     ],
     "prompt_number": 13
    },
    {
     "cell_type": "code",
     "collapsed": false,
     "input": [],
     "language": "python",
     "metadata": {},
     "outputs": []
    }
   ],
   "metadata": {}
  }
 ]
}